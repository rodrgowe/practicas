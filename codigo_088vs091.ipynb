{
 "cells": [
  {
   "cell_type": "code",
   "execution_count": null,
   "metadata": {},
   "outputs": [],
   "source": [
    "import os\n",
    "import pandas as pd\n",
    "import numpy as np\n",
    "import openpyxl\n",
    "from openpyxl import load_workbook\n",
    "import openpyxl\n",
    "wd = r'W:\\2023\\FINANZAS\\AI-2023\\Codigos NRIP\\Formatos\\Financieros' #si se tiene que poner ruta\n",
    "#wd = os.getcwd() #se utiliza para archivos que se extraen de la misma base\n",
    "# especificar numero de formato que se hará\n",
    "formato1 =\"088\"\n",
    "formato2 =\"091\""
   ]
  },
  {
   "cell_type": "code",
   "execution_count": null,
   "metadata": {},
   "outputs": [],
   "source": [
    "wd1 = 'W:\\\\2023\\\\FINANZAS\\\\AI-2023\\\\Codigos NRIP\\\\Formatos\\\\Financieros\\\\'"
   ]
  },
  {
   "cell_type": "code",
   "execution_count": null,
   "metadata": {},
   "outputs": [],
   "source": [
    "lista = []\n",
    "for i in os.listdir(wd):\n",
    "    lista.append(wd1 + i)"
   ]
  },
  {
   "cell_type": "code",
   "execution_count": null,
   "metadata": {},
   "outputs": [],
   "source": [
    "lista"
   ]
  },
  {
   "cell_type": "code",
   "execution_count": null,
   "metadata": {},
   "outputs": [],
   "source": [
    "lista2 = []\n",
    "for i in lista:\n",
    "    print(i)\n",
    "    for j in os.listdir(i):\n",
    "        if j[:3] =='088' or j[:3] =='091':\n",
    "            lista2.append(j)\n",
    "    for j in lista2:\n",
    "        ruta1 = os.path.join(i,j)\n",
    "        ruta2 = os.path.join(i,j)\n",
    "        df = pd.read_excel(ruta1,skiprows=21)\n",
    "        df1 = pd.read_excel(ruta2,skiprows=23)"
   ]
  },
  {
   "cell_type": "code",
   "execution_count": null,
   "metadata": {},
   "outputs": [],
   "source": [
    "for rutas, carpetas, archivos in os.walk(wd):\n",
    "    for archivos in archivos"
   ]
  },
  {
   "cell_type": "code",
   "execution_count": null,
   "metadata": {},
   "outputs": [],
   "source": [
    "for i in lista:\n",
    "    lista2 = []\n",
    "    for j in os.listdir(i):\n",
    "        if j[:3] == '088' or j[:3] == '091':\n",
    "            lista2.append(j)\n",
    "        if len(lista2) >1:\n",
    "            ruta1 = os.path.join(wd,i,lista2[0])\n",
    "            ruta2 = os.path.join(wd,i,lista2[1])\n",
    "            df = pd.read_excel(ruta1,skiprows=21)\n",
    "            df1 = pd.read_excel(ruta2,skiprows=23)\n",
    "            \n",
    "            "
   ]
  },
  {
   "cell_type": "code",
   "execution_count": null,
   "metadata": {},
   "outputs": [],
   "source": [
    "if df.iloc[0,1]-df1[df1.columns[2]].sum()<1:\n",
    "    print(True)\n",
    "else:\n",
    "    print('los datos de ingresos no coinciden')\n"
   ]
  },
  {
   "cell_type": "code",
   "execution_count": null,
   "metadata": {},
   "outputs": [],
   "source": [
    "\n",
    "for ruta, carpetas, archivos in os.walk(wd):\n",
    "    for carpeta in carpetas:\n",
    "        print(carpeta)\n"
   ]
  },
  {
   "cell_type": "code",
   "execution_count": null,
   "metadata": {},
   "outputs": [],
   "source": [
    "df = pd.read_excel('W:\\\\2023\\\\FINANZAS\\\\AI-2023\\\\Codigos NRIP\\\\Formatos\\\\Financieros\\\\088 - AMERICA MOVIL PERU S.A.C. 22.05.23.xlsx')"
   ]
  },
  {
   "cell_type": "code",
   "execution_count": null,
   "metadata": {},
   "outputs": [],
   "source": [
    "lista2"
   ]
  },
  {
   "cell_type": "code",
   "execution_count": null,
   "metadata": {},
   "outputs": [],
   "source": [
    "wd3 = r'W:\\2023\\FINANZAS\\INFORMACION PERIODICA\\2023-I\\03. Marzo\\TELEFÓNICA DEL PERÚ S.A.A\\091 - TELEFÓNICA DEL PERÚ S.A.A. 20.05.23.xlsx'\n",
    "df = pd.read_excel(wd3,skiprows=21) #COMPLETAR con archivo de CCPP\n",
    "df = df.drop(columns=df.columns[0])"
   ]
  },
  {
   "cell_type": "code",
   "execution_count": null,
   "metadata": {},
   "outputs": [],
   "source": [
    "wd2 = r'W:\\2023\\FINANZAS\\INFORMACION PERIODICA\\2023-I\\03. Marzo\\TELEFÓNICA DEL PERÚ S.A.A\\088 - TELEFÓNICA DEL PERÚ S.A.A. 20.05.23.xlsx'\n",
    "df1 = pd.read_excel(wd2,skiprows=22) #COMPLETAR con archivo de CCPP\n",
    "\n",
    "df1 = df1.drop(columns=df1.columns[0])"
   ]
  },
  {
   "cell_type": "code",
   "execution_count": null,
   "metadata": {},
   "outputs": [],
   "source": [
    "df['var'] = df[df.columns[1]]/df[df.columns[2]]-1"
   ]
  },
  {
   "cell_type": "code",
   "execution_count": null,
   "metadata": {},
   "outputs": [],
   "source": []
  }
 ],
 "metadata": {
  "kernelspec": {
   "display_name": "Python 3",
   "language": "python",
   "name": "python3"
  },
  "language_info": {
   "codemirror_mode": {
    "name": "ipython",
    "version": 3
   },
   "file_extension": ".py",
   "mimetype": "text/x-python",
   "name": "python",
   "nbconvert_exporter": "python",
   "pygments_lexer": "ipython3",
   "version": "3.11.3"
  },
  "orig_nbformat": 4
 },
 "nbformat": 4,
 "nbformat_minor": 2
}
