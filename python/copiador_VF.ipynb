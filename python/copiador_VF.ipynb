{
 "cells": [
  {
   "cell_type": "markdown",
   "metadata": {},
   "source": [
    "## COPIADOR DE VARIOS AÑOS PARA PEDIDOS DE INFORMACION \n",
    "### ANTES DE 2023"
   ]
  },
  {
   "cell_type": "code",
   "execution_count": 1,
   "metadata": {},
   "outputs": [],
   "source": [
    "import os\n",
    "import shutil\n",
    "import re\n",
    "import time"
   ]
  },
  {
   "cell_type": "code",
   "execution_count": 2,
   "metadata": {},
   "outputs": [],
   "source": [
    "ruta = r'W:\\2023\\FINANZAS\\INFORMACION PERIODICA'\n",
    "años = input('inserte los años que copiará separados por una coma (,) ejemp. 2020, 2021, 2022')\n",
    "trimestres = input('si desea copiar todos los trimestres escriba 1, si desea solo los del IV trimestre escriba 2')\n",
    "if trimestres == '1':\n",
    "    trimestre = 'I','V'\n",
    "elif trimestres == '2':\n",
    "    trimestre = 'V'\n",
    "else:\n",
    "    print('error al elegir los trimestres')\n",
    "\n",
    "\n",
    "años = tuple(a.strip() for a in años.split(\",\"))\n",
    "a = os.listdir(ruta)\n",
    "rutas_a = []\n",
    "for i in a:\n",
    "    if i.endswith((trimestre)) and i.startswith((años)):\n",
    "        b = os.path.join(ruta,i)\n",
    "        rutas_a.append(b)"
   ]
  },
  {
   "cell_type": "code",
   "execution_count": 3,
   "metadata": {},
   "outputs": [
    {
     "data": {
      "text/plain": [
       "['W:\\\\2023\\\\FINANZAS\\\\INFORMACION PERIODICA\\\\2021-IV',\n",
       " 'W:\\\\2023\\\\FINANZAS\\\\INFORMACION PERIODICA\\\\2022-IV']"
      ]
     },
     "execution_count": 3,
     "metadata": {},
     "output_type": "execute_result"
    }
   ],
   "source": [
    "rutas_a"
   ]
  },
  {
   "cell_type": "markdown",
   "metadata": {},
   "source": [
    "## Ingrese la ruta de destino y las fechas minimas y maximas de los formatos de los que copiará"
   ]
  },
  {
   "cell_type": "code",
   "execution_count": 4,
   "metadata": {},
   "outputs": [],
   "source": [
    "ruta_destino = input(\"Ingresa la ruta de destino: \")\n",
    "ruta_destino = ruta_destino.replace('\\\\', '\\\\\\\\')\n",
    "\n",
    "\n",
    "# Ingreso de la fecha mínima de modificación\n",
    "fecha_minima = input('inserte la fecha minima de modificación de los archivos:%d/%m/%Y')\n",
    "try:\n",
    "    fecha_minima = time.mktime(time.strptime(fecha_minima, \"%d/%m/%Y\"))\n",
    "except ValueError:\n",
    "    print(\"Fecha mínima inválida. Asegúrate de usar el formato DD/MM/AAAA.\")\n",
    "    exit()\n",
    "# Ingreso de la fecha máxima de modificación\n",
    "fecha_maxima = input('inserte la fecha maxima de modificación de los archivos:%d/%m/%Y')\n",
    "try:\n",
    "    fecha_maxima = time.mktime(time.strptime(fecha_maxima, \"%d/%m/%Y\"))\n",
    "except ValueError:\n",
    "    print(\"Fecha máxima inválida. Asegúrate de usar el formato DD/MM/AAAA.\")\n",
    "    exit()  \n"
   ]
  },
  {
   "cell_type": "code",
   "execution_count": 5,
   "metadata": {},
   "outputs": [],
   "source": [
    "formatos = input('inserte los formatos que desea copiar separados por (,) p.ejemp 020,025,029')\n",
    "formatos = [f.strip() for f in formatos.split(\",\")]"
   ]
  },
  {
   "cell_type": "code",
   "execution_count": 6,
   "metadata": {},
   "outputs": [
    {
     "name": "stdout",
     "output_type": "stream",
     "text": [
      "Se copiaron los archivos más recientes de los formatos 028 de la empresa AMERICA MOVIL PERU S.A.C.\n",
      "Se copiaron los archivos más recientes de los formatos 028 de la empresa AMERICATEL PERÚ S.A.\n",
      "Se copiaron los archivos más recientes de los formatos 028 de la empresa ANURA PERU S.A.C.\n",
      "Se copiaron los archivos más recientes de los formatos 028 de la empresa CENTURYLINK PERÚ S.A. (antes LEVEL 3 PERU S.A.).\n",
      "Se copiaron los archivos más recientes de los formatos 028 de la empresa CONVERGIA PERÚ S.A.\n",
      "Se copiaron los archivos más recientes de los formatos 028 de la empresa ENTEL PERÚ S.A. (antes NEXTEL DEL PERÚ S.A.).\n",
      "Se copiaron los archivos más recientes de los formatos 028 de la empresa GILAT TO HOME PERÚ S.A.\n",
      "Se copiaron los archivos más recientes de los formatos 028 de la empresa INFODUCTOS Y TELECOMUNICACIONES DEL PERU S.A.\n",
      "Se copiaron los archivos más recientes de los formatos 028 de la empresa INGENIERIA EN GESTION DE NEGOCIOS Y OPORTUNIDADES SAC.\n",
      "Se copiaron los archivos más recientes de los formatos 028 de la empresa NOVACLOUD S.A.C.\n",
      "Se copiaron los archivos más recientes de los formatos 028 de la empresa OPTICAL TECHNOLOGIES S.A.C.\n",
      "Se copiaron los archivos más recientes de los formatos 028 de la empresa TELEFÓNICA DEL PERÚ S.A.A.\n",
      "Se copiaron los archivos más recientes de los formatos 028 de la empresa VIETTEL PERU S.A.C.\n",
      "Se copiaron los archivos más recientes de los formatos 028 de la empresa WI-NET TELECOM S.A.C.\n",
      "Se copiaron los archivos más recientes de los formatos 028 de la empresa WINNER SYSTEMS S.A.C.\n",
      "Se copiaron los archivos más recientes de los formatos 028 de la empresa AMERICA MOVIL PERU S.A.C.\n",
      "Se copiaron los archivos más recientes de los formatos 028 de la empresa AMERICATEL PERÚ S.A.\n",
      "Se copiaron los archivos más recientes de los formatos 028 de la empresa ENTEL PERÚ S.A.\n",
      "Se copiaron los archivos más recientes de los formatos 028 de la empresa OPTICAL TECHNOLOGIES S.A.C.\n",
      "Se copiaron los archivos más recientes de los formatos 028 de la empresa TELEFÓNICA DEL PERÚ S.A.A.\n"
     ]
    }
   ],
   "source": [
    "def copiar_formatos():\n",
    "        \n",
    "    for rut in rutas_a:\n",
    "        ruta_origen = rut\n",
    "        ruta_origen = ruta_origen.replace('\\\\', '\\\\\\\\')\n",
    "        ruta_desd = os.path.join(ruta_destino, os.path.basename(rut))\n",
    "        # Obtener la lista de carpetas de empresas\n",
    "        carpetas_empresas = [nombre for nombre in os.listdir(ruta_origen) if os.path.isdir(os.path.join(ruta_origen, nombre))]\n",
    "\n",
    "        # Ingreso de la lista de formatos separados por comas\n",
    "\n",
    "\n",
    "        # Recorrer cada carpeta de empresa\n",
    "        for carpeta_empresa in carpetas_empresas:\n",
    "            ruta_empresa = os.path.join(ruta_origen, carpeta_empresa)\n",
    "\n",
    "            archivos_por_formato = {}  # Diccionario para almacenar los archivos por formato\n",
    "\n",
    "            # Obtener la lista de archivos que cumplen con los formatos especificados y el rango de fechas\n",
    "            for formato in formatos:\n",
    "                archivos = [\n",
    "                    nombre for nombre in os.listdir(ruta_empresa)\n",
    "                    if nombre.startswith(formato) and fecha_minima <= os.path.getmtime(os.path.join(ruta_empresa, nombre)) <= fecha_maxima\n",
    "                ]\n",
    "\n",
    "                if archivos:\n",
    "                    archivos_por_formato[formato] = archivos\n",
    "\n",
    "            # Verificar si se encontraron archivos\n",
    "            if archivos_por_formato:\n",
    "\n",
    "                # Crear la carpeta de la empresa en la ruta de destino\n",
    "                ruta_destino_empresa = os.path.join(ruta_desd, carpeta_empresa)\n",
    "                os.makedirs(ruta_destino_empresa, exist_ok=True)\n",
    "\n",
    "                # Copiar los archivos más recientes de cada formato a la carpeta de destino\n",
    "                for formato, archivos in archivos_por_formato.items():\n",
    "                    try:\n",
    "                            \n",
    "                        archivo_mas_reciente = max(archivos, key=lambda x: os.path.getmtime(os.path.join(ruta_empresa, x)))\n",
    "                        ruta_origen_archivo = os.path.join(ruta_empresa, archivo_mas_reciente)\n",
    "                        ruta_destino_archivo = os.path.join(ruta_destino_empresa, archivo_mas_reciente)\n",
    "                        shutil.copy2(ruta_origen_archivo, ruta_destino_archivo)\n",
    "                    except:\n",
    "                        continue\n",
    "\n",
    "                print(f\"Se copiaron los archivos más recientes de los formatos {', '.join(archivos_por_formato.keys())} de la empresa {carpeta_empresa}.\")"
   ]
  }
 ],
 "metadata": {
  "kernelspec": {
   "display_name": "Python 3",
   "language": "python",
   "name": "python3"
  },
  "language_info": {
   "codemirror_mode": {
    "name": "ipython",
    "version": 3
   },
   "file_extension": ".py",
   "mimetype": "text/x-python",
   "name": "python",
   "nbconvert_exporter": "python",
   "pygments_lexer": "ipython3",
   "version": "3.11.4"
  },
  "orig_nbformat": 4
 },
 "nbformat": 4,
 "nbformat_minor": 2
}
