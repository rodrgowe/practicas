{
 "cells": [
  {
   "cell_type": "code",
   "execution_count": null,
   "metadata": {},
   "outputs": [],
   "source": [
    "import os\n",
    "import pandas as pd\n",
    "import openpyxl\n",
    "from openpyxl import load_workbook\n",
    "import openpyxl\n",
    "#wd = os.getcwd() #introducir ruta onde se encuentran los archivos o utilizar esta funcion si se está en la carpeta\n",
    "wd = input(\"inserte la ruta donde se encuentran los archivos\") #ruta donde trabajará el código\n",
    "wd = wd.replace('\\\\', '\\\\\\\\')\n",
    "valores = pd.read_excel('W:\\\\2023\\\\FINANZAS\\\\AI-2023\\\\Codigos NRIP\\\\base_lista.xlsx')\n",
    "url = 'https://www.osiptel.gob.pe/media/oddkm3da/informe-001-ce-ccpp-2020-1.xlsx'\n",
    "\n",
    "guardado = input(\"inserte ruta de guardado de archivo\")\n",
    "guardado = guardado.replace('\\\\', '\\\\\\\\')\n",
    "formato_str = \"028\"\n",
    "formato =28"
   ]
  },
  {
   "cell_type": "code",
   "execution_count": null,
   "metadata": {},
   "outputs": [],
   "source": [
    "wd2 = r'W:\\2023\\FINANZAS\\INFORMACION PERIODICA\\2023-I\\03. Marzo\\AMERICA MOVIL PERU S.A.C\\028 - AMERICA MOVIL PERU S.A.C. 22.05.23.xlsx'\n",
    "columnas = pd.read_excel(wd2,skiprows=23) #COMPLETAR con archivo de CCPP\n",
    "columnas = columnas.drop(columns=columnas.columns[0])"
   ]
  },
  {
   "cell_type": "code",
   "execution_count": null,
   "metadata": {},
   "outputs": [],
   "source": [
    "columnas = ['Mes', 'Tecnología', 'Concepto', 'Ingresos','Año','Trimestre', 'Empresa', 'Fecha']"
   ]
  },
  {
   "cell_type": "code",
   "execution_count": null,
   "metadata": {},
   "outputs": [],
   "source": [
    "datos = []\n",
    "for ruta, carpetas, archivos in os.walk(wd):\n",
    "    for archivo in archivos:\n",
    "        if archivo.startswith(formato_str) and archivo.endswith(\".xlsx\"):\n",
    "            try:\n",
    "                \n",
    "                ruta_completa = os.path.join(ruta, archivo)\n",
    "                # Obtener datos de las celdas\n",
    "                wb = load_workbook(ruta_completa)\n",
    "                sheet = wb.active\n",
    "                year = sheet['C16'].value\n",
    "                trimestre = sheet['E16'].value\n",
    "                df1 = pd.read_excel(ruta_completa,skiprows=23)\n",
    "                df1['Año'] = year\n",
    "                # Obtener la primera y segunda parte del nombre del formato\n",
    "                nombre_formato = os.path.splitext(archivo)[0]  # Obtener el nombre del archivo sin extensión\n",
    "                partes = nombre_formato.split(\" - \")\n",
    "                partes1 = nombre_formato.split(\" - \")[1].split(\" \")\n",
    "                partes_nombre = nombre_formato.split(' - ')\n",
    "                df1['Empresa'] = \" \".join(partes1[0:-1])\n",
    "                df1 = df1.drop(df1.columns[0], axis=1)  # Eliminar la primera columna\n",
    "                datos.append(df1)\n",
    "            except: \n",
    "                print(f'error con el {archivo}')"
   ]
  },
  {
   "cell_type": "code",
   "execution_count": null,
   "metadata": {},
   "outputs": [],
   "source": [
    "acf = pd.concat(datos, ignore_index=True)"
   ]
  },
  {
   "cell_type": "code",
   "execution_count": null,
   "metadata": {},
   "outputs": [],
   "source": [
    "acf.to_excel(os.path.join(guardado, f'{formato_str}_verif.xlsx'), index=False) "
   ]
  },
  {
   "cell_type": "code",
   "execution_count": null,
   "metadata": {},
   "outputs": [],
   "source": []
  }
 ],
 "metadata": {
  "kernelspec": {
   "display_name": "Python 3",
   "language": "python",
   "name": "python3"
  },
  "language_info": {
   "codemirror_mode": {
    "name": "ipython",
    "version": 3
   },
   "file_extension": ".py",
   "mimetype": "text/x-python",
   "name": "python",
   "nbconvert_exporter": "python",
   "pygments_lexer": "ipython3",
   "version": "3.11.4"
  },
  "orig_nbformat": 4
 },
 "nbformat": 4,
 "nbformat_minor": 2
}
