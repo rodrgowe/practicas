{
 "cells": [
  {
   "cell_type": "code",
   "execution_count": null,
   "metadata": {},
   "outputs": [],
   "source": [
    "import os\n",
    "import pandas as pd\n",
    "import openpyxl\n",
    "from openpyxl import load_workbook"
   ]
  },
  {
   "cell_type": "markdown",
   "metadata": {},
   "source": [
    "ESTE CODIGO IDENTIFICA LOS ARCHIVOS ENVIADOS POR LAS EMPRESAS"
   ]
  },
  {
   "cell_type": "code",
   "execution_count": null,
   "metadata": {},
   "outputs": [],
   "source": [
    "empresas = r'\\\\srvfiledfs\\documentos\\DPRC\\2023\\FINANZAS\\COLAZABAL\\03. ANÁLISIS FINANCIERO\\2023\\2023-II\\z. otros\\2.1. CONEXIONES DE INTERNET FIJO.xlsx'\n",
    "empr = pd.read_excel(empresas, skiprows=3)\n"
   ]
  },
  {
   "cell_type": "code",
   "execution_count": null,
   "metadata": {},
   "outputs": [],
   "source": [
    "df = pd.DataFrame()\n",
    "df['Empresas'] = empr['Etiquetas de fila']"
   ]
  },
  {
   "cell_type": "code",
   "execution_count": 16,
   "metadata": {},
   "outputs": [
    {
     "data": {
      "text/plain": [
       "['A & P SERVITEL S.A.C',\n",
       " 'AIQUE VARGAS, GERMAN',\n",
       " 'AMAZONIA T.V. S.R.LTDA',\n",
       " 'AMERICA MOVIL PERU S.A.C',\n",
       " 'AMERICATEL PERÚ S.A',\n",
       " 'ANDRES CULQUI CULQUI',\n",
       " 'ANURA PERU S.A.C',\n",
       " 'ASOCIACION DE TELECABLE VILLA CANCAS',\n",
       " 'ASOCIACIÓN DE CABLE VISION SAN JACINTO',\n",
       " 'AT & T GLOBAL NETWORK SERVICES DEL PERU S.R.L',\n",
       " 'AXESS NETWORKS SOLUTIONS PERU S.A.C',\n",
       " 'BANTEL S.A.C',\n",
       " 'BFT S.A.C',\n",
       " 'BSCP SERVICIOS S.A.C',\n",
       " 'CABLE ANDINA S.A.C',\n",
       " 'CABLE CONTA S.A.C',\n",
       " 'CABLE MASTER COMUNICACIONES S.A.C',\n",
       " 'CABLE MAX S.A.C',\n",
       " 'CABLE MAX SIGLO XXI S.R.L',\n",
       " 'CABLE NETWORD S.R.L',\n",
       " 'CABLE PACIFICO S.A.C',\n",
       " 'CABLE PUCALLPA SRL',\n",
       " 'CABLE RED PERÚ S.R.L',\n",
       " 'CABLE SERVIS CHN E.I.R.L',\n",
       " 'CABLE VIDEO PERÚ S.A.C',\n",
       " 'CABLE VISION MAGES SAC',\n",
       " 'CABLE VISIÓN LORETO S.A.C',\n",
       " 'CABLEMAX E.I.R.L',\n",
       " 'CABLENORTV S.A.C',\n",
       " 'CALA SERVICIOS INTEGRALES E.I.R.L',\n",
       " 'CANTARO TV E.I.R.L',\n",
       " 'CHASQUI@NET S.R.L',\n",
       " 'CIRION TECHNOLOGIES PERU S.A',\n",
       " 'COLLECTE LOCALISATION SATELLITES PERU S.A.C',\n",
       " 'COMPUNETWORK S.A.C',\n",
       " 'COMUNICACIONES J&F CABLE TV S.A.C',\n",
       " 'CONEXION OPTICA TELECOMUNICACIONES S.A.C',\n",
       " 'CONVERGIA PERÚ S.A',\n",
       " 'DANTE DANIEL DE LA CRUZ CASTRO',\n",
       " 'DATOTEL S.A.C',\n",
       " 'DIRECTV PERU S.R.L',\n",
       " 'DKR VISION S.R.L',\n",
       " 'DOLPHIN MOBILE S.A.C',\n",
       " 'DOLPHIN TELECOM DEL PERU S.A.C',\n",
       " 'ECONOCABLE MEDIA S.A.C',\n",
       " 'ECONOCABLE PERÚ S.A.C',\n",
       " 'ECONOCABLE S.A.C',\n",
       " 'EMPRESA DE COMUNICACIONES LA VOZ S.A.C',\n",
       " 'EMPRESA DE SERVICIOS TV CABLE ANDAHUASI S.A',\n",
       " 'EMPRESA DE TELECOMUNICACIONES MULTIMEDIA ALFA S.A.C',\n",
       " 'EMPRESA DE TV Y RADIODIFUSION BAHIA E.I.R.L',\n",
       " 'EMPRESA RADIODIFUSORA SAN JUAN E.I.R.L',\n",
       " 'ENTEL PERÚ S.A',\n",
       " 'FIBERLINE PERU S.A.C',\n",
       " 'FIBERLUX S.A.C',\n",
       " 'FIBERLUX TECH S.A.C',\n",
       " 'FIBERTIM S.A.C',\n",
       " 'FIBRA MAGIC S.A.C',\n",
       " 'FIBRA OPTICA AMAZONICA DEL PERU S.A.C',\n",
       " 'FLASH SERVICIOS PERÚ S.R.L',\n",
       " 'FRAVATEL E.I.R.L',\n",
       " 'GIGA & MEGA PLUS TV S.A.C',\n",
       " 'GILAT NETWORKS PERU S.A',\n",
       " 'GILAT TO HOME PERÚ S.A',\n",
       " 'GLOBAL FIBER PERU S.A.C.(ANTES LELITV E.I.R.L.)',\n",
       " 'GPON NETWORKS S.A.C',\n",
       " 'GTD PERÚ S.A',\n",
       " 'GUINEA MOBILE S.A.C',\n",
       " 'HISPASAT PERU S.A.C',\n",
       " 'HUANUCO TELECOM S.A.C',\n",
       " 'HUGHES DE PERÚ S.R.L',\n",
       " 'IMPERIAL TV S.A.C',\n",
       " 'INFODUCTOS Y TELECOMUNICACIONES DEL PERU S.A',\n",
       " 'INGENYO S.A.C',\n",
       " 'INTERMAX S.A.C',\n",
       " 'INTERNET PARA TODOS S.A.C',\n",
       " 'INTERNEXA PERÚ S.A',\n",
       " 'INTI SAT TELECOM S.R.L',\n",
       " 'INVERSIONES CARALMA S.A.C',\n",
       " 'INVERSIONES MOTUX S.A.C',\n",
       " 'INVERSIONES TELCOTEL S.A.C',\n",
       " 'ISMAEL SILVA CERQUERA (SAUCETEL)',\n",
       " 'IWAY TELECOM S.A.C',\n",
       " 'J.R. TELECOM S.R.LTDA',\n",
       " 'JUAN DANIEL CHAVARRIA COTRINA',\n",
       " 'KTV CABLE S.A.C',\n",
       " 'LATINCABLE S.R.L',\n",
       " 'LAZUS PERU S.A.C',\n",
       " 'MAGRO Y CARDENAS VISTA TV EIRL',\n",
       " 'MARAL TELECOMUNICACIONES S.A.C',\n",
       " 'MEDIA NETWORKS LATIN AMERICA S.A.C',\n",
       " 'MEGACABLE NETWORK S.A.C',\n",
       " 'NETVOICE S.A.C',\n",
       " 'NEXTNET S.A.C',\n",
       " 'NOVACLOUD S.A.C',\n",
       " 'NOVO TELCO SOLUTIONS S.A.C',\n",
       " 'OMNISAT CABLE TELEVISION S.R.L',\n",
       " 'OPTICOM S.A.C',\n",
       " 'OROCOM S.A.C',\n",
       " 'P.T.A. TELECOMUNICACIONES S.R.L',\n",
       " 'PRISONTEC S.A.C',\n",
       " 'QITV TELECOMUNICACIONES S.A.C',\n",
       " 'RED DE COMUNICACIONES DIGITALES S.A.C',\n",
       " 'RED INTERCABLE PERU S.A.C',\n",
       " 'REDES OPTICAS DEL PERÚ S.A.C',\n",
       " 'RICARDO MARIO QUISPE CHOCCE',\n",
       " 'RS NEGOCIOS Y SERVICIOS E.I.R.L',\n",
       " 'SENCINET LATAM PERU S.A.C',\n",
       " 'SEÑAL DIGITAL LATINA S.A.C',\n",
       " 'SISTEMA DE FIBRA OPTICA Y TELECOMUNICACIONES S.A.C',\n",
       " 'SORITV S.A.C',\n",
       " 'SUMA MOVIL PERÚ S.A.C',\n",
       " 'TELECABLE LADEES E.I.R.L',\n",
       " 'TELECABLE TUMBES S.A.C',\n",
       " 'TELECOMUNICACIONES ARGONZA S.R.L',\n",
       " 'TELECOMUNICACIONES EL TALLAN E.I.R.L',\n",
       " 'TELEFONICA GLOBAL SOLUTIONS PERU S.A.C. (antes Telefónica Servicios TIWS S.A.C.)',\n",
       " 'TELEFÓNICA DEL PERÚ S.A.A',\n",
       " 'TELEINCA S.A.C',\n",
       " 'TELESPAZIO ARGENTINA S.A',\n",
       " 'TELEVISION SATELITAL CONCEPCION S.R.L',\n",
       " 'TELEVISORA DEL SUR S.A.C',\n",
       " 'TELXIUS CABLE PERU S.A.C',\n",
       " 'TV CABLE DEL NORTE S.R.L',\n",
       " 'TV NOR COMUNICACIONES S.A.C',\n",
       " 'TV SAT KABEL S.R.L',\n",
       " 'VIETTEL PERU S.A.C',\n",
       " 'VIVIANA MARINA RODRÍGUEZ VIENA',\n",
       " 'VOZ Y TELEVISION S.A.C',\n",
       " 'WG COMUNICACIONES DIGITALES S.A.C',\n",
       " 'WG TELECOMUNICACIONES DEL ORIENTE S.A.C',\n",
       " 'WI-NET TELECOM S.A.C',\n",
       " 'WIDMAR PINEDO NOLORBE',\n",
       " 'WIN EMPRESAS S.A.C. (OPTICAL TECHNOLOGIES S.A.C)',\n",
       " 'WINNER SYSTEMS S.A.C',\n",
       " 'WISP UNITEL S.A.C',\n",
       " 'WOW TEL S.A.C',\n",
       " 'XIGMA S.A.C',\n",
       " 'XIRRUS TEC S.A.C',\n",
       " 'YACHAY TELECOMUNICACIONES S.A.C',\n",
       " 'YURIMARKEY BUSINESS E.I.R.L']"
      ]
     },
     "execution_count": 16,
     "metadata": {},
     "output_type": "execute_result"
    }
   ],
   "source": [
    "wd = r'W:\\2023\\FINANZAS\\INFORMACION PERIODICA\\2023-II\\06. Junio'\n",
    "os.listdir(wd)"
   ]
  },
  {
   "cell_type": "code",
   "execution_count": 20,
   "metadata": {},
   "outputs": [
    {
     "name": "stdout",
     "output_type": "stream",
     "text": [
      "la empresa CABLE PUCALLPA SRL ya envio []\n",
      "la empresa CABLE RED PERÚ S.R.L falta enviar ['028']\n",
      "la empresa CABLE VISION MAGES SAC ya envio []\n",
      "la empresa CABLEMAX E.I.R.L falta enviar ['028']\n",
      "la empresa DIRECTV PERU S.R.L ya envio []\n",
      "la empresa GLOBAL FIBER PERU S.A.C.(ANTES LELITV E.I.R.L.) ya envio []\n",
      "la empresa INVERSIONES TELCOTEL S.A.C ya envio []\n",
      "la empresa VOZ Y TELEVISION S.A.C ya envio []\n",
      "la empresa YACHAY TELECOMUNICACIONES S.A.C ya envio []\n"
     ]
    }
   ],
   "source": [
    "\n",
    "# falta automatizar la lista de formatos que deben de enviar\n",
    "lista = ['028']\n",
    "#automatizar la lista de empresas //empresas obligadas / todas las empresas / moviles\n",
    "lista_empresas = df['Empresas'].to_list()\n",
    "wd = r'W:\\2023\\FINANZAS\\INFORMACION PERIODICA\\2023-II\\06. Junio'\n",
    "faltantes = []\n",
    "for empresa in os.listdir(wd):\n",
    "    if empresa in lista_empresas:\n",
    "        data = []\n",
    "        ruta = os.path.join(wd,empresa)\n",
    "        for archivo in os.listdir(ruta):\n",
    "            if archivo[:3] in lista:\n",
    "                data.append(archivo[:3])\n",
    "        if len(data) >= 1:\n",
    "            print(f'la empresa {empresa} ya envio {list(set(lista)-set(data))}')\n",
    "        elif len(data) < 1:\n",
    "            print(f'la empresa {empresa} falta enviar {list(set(lista)-set(data))}')\n",
    "            faltantes.append(empresa)"
   ]
  },
  {
   "cell_type": "code",
   "execution_count": 18,
   "metadata": {},
   "outputs": [
    {
     "data": {
      "text/plain": [
       "['CABLE RED PERÚ S.R.L', 'CABLEMAX E.I.R.L']"
      ]
     },
     "execution_count": 18,
     "metadata": {},
     "output_type": "execute_result"
    }
   ],
   "source": [
    "faltantes"
   ]
  },
  {
   "cell_type": "code",
   "execution_count": null,
   "metadata": {},
   "outputs": [],
   "source": []
  }
 ],
 "metadata": {
  "kernelspec": {
   "display_name": "Python 3",
   "language": "python",
   "name": "python3"
  },
  "language_info": {
   "codemirror_mode": {
    "name": "ipython",
    "version": 3
   },
   "file_extension": ".py",
   "mimetype": "text/x-python",
   "name": "python",
   "nbconvert_exporter": "python",
   "pygments_lexer": "ipython3",
   "version": "3.11.4"
  },
  "orig_nbformat": 4
 },
 "nbformat": 4,
 "nbformat_minor": 2
}
