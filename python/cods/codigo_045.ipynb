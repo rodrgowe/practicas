{
 "cells": [
  {
   "cell_type": "code",
   "execution_count": null,
   "metadata": {},
   "outputs": [],
   "source": [
    "import os\n",
    "import pandas as pd\n",
    "import openpyxl\n",
    "from openpyxl import load_workbook\n",
    "import openpyxl\n",
    "wd = 'C:\\\\Users\\\\colazabal\\\\Desktop\\\\formato 45' #ruta donde trabajará el código\n",
    "valores = pd.read_excel('W:\\\\2023\\\\FINANZAS\\\\AI-2023\\\\Codigos NRIP\\\\base_lista.xlsx')\n",
    "url = 'https://www.osiptel.gob.pe/media/oddkm3da/informe-001-ce-ccpp-2020-1.xlsx'\n",
    "ccpp_base = pd.read_excel(url) #COMPLETAR con archivo de CCPP\n",
    "formato_str = \"045\"\n",
    "formato =45"
   ]
  },
  {
   "cell_type": "code",
   "execution_count": null,
   "metadata": {},
   "outputs": [],
   "source": [
    "columnas = ['Mes', 'Tipo de terminal móvil', 'Modalidad contractual', 'Líneas',\n",
    "       'Tráfico Cursado', 'Tráfico Facturado', 'Ingresos','Año','Trimestre','Empresa']"
   ]
  },
  {
   "cell_type": "code",
   "execution_count": null,
   "metadata": {},
   "outputs": [],
   "source": [
    "datos = []\n",
    "for ruta, carpetas, archivos in os.walk(wd):\n",
    "    for archivo in archivos:\n",
    "        if archivo.startswith(formato_str) and archivo.endswith(\".xlsx\"):\n",
    "            try:\n",
    "                ruta_completa = os.path.join(ruta, archivo)\n",
    "                # Obtener datos de las celdas\n",
    "                wb = load_workbook(ruta_completa)\n",
    "                sheet = wb.active\n",
    "                year = sheet['C16'].value\n",
    "                trimestre = sheet['E16'].value\n",
    "                df1 = pd.read_excel(ruta_completa,skiprows=20)\n",
    "                df1['Año'] = year\n",
    "                df1['Trimestre'] = trimestre\n",
    "                # Obtener la primera y segunda parte del nombre del formato\n",
    "                nombre_formato = os.path.splitext(archivo)[0]  # Obtener el nombre del archivo sin extensión\n",
    "                partes = nombre_formato.split(\" - \")\n",
    "                partes1 = nombre_formato.split(\" - \")[1].split(\" \")\n",
    "                partes_nombre = nombre_formato.split(' - ')\n",
    "                df1['Empresa'] = \" \".join(partes1[0:-1])\n",
    "                df1 = df1.drop(df1.columns[0], axis=1)  # Eliminar la primera columna\n",
    "                datos.append(df1)\n",
    "            except: \n",
    "                print(f'error con el {archivo}')"
   ]
  },
  {
   "cell_type": "code",
   "execution_count": null,
   "metadata": {},
   "outputs": [],
   "source": [
    "acf = pd.concat(datos, ignore_index=True)\n",
    "acf"
   ]
  },
  {
   "cell_type": "code",
   "execution_count": null,
   "metadata": {},
   "outputs": [],
   "source": []
  }
 ],
 "metadata": {
  "kernelspec": {
   "display_name": "Python 3",
   "language": "python",
   "name": "python3"
  },
  "language_info": {
   "codemirror_mode": {
    "name": "ipython",
    "version": 3
   },
   "file_extension": ".py",
   "mimetype": "text/x-python",
   "name": "python",
   "nbconvert_exporter": "python",
   "pygments_lexer": "ipython3",
   "version": "3.11.3"
  },
  "orig_nbformat": 4
 },
 "nbformat": 4,
 "nbformat_minor": 2
}
