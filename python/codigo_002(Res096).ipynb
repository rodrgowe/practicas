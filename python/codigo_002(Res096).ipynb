{
 "cells": [
  {
   "cell_type": "code",
   "execution_count": 2,
   "metadata": {},
   "outputs": [],
   "source": [
    "import os\n",
    "import pandas as pd\n",
    "import openpyxl\n",
    "from openpyxl import load_workbook\n",
    "import openpyxl\n",
    "\n",
    "wd = input(\"inserte la ruta donde se encuentran los archivos\") #ruta donde trabajará el código\n",
    "wd = wd.replace('\\\\', '\\\\\\\\')\n",
    "guardado = input(\"inserte ruta de guardado de archivo\")\n",
    "guardado = guardado.replace('\\\\', '\\\\\\\\')"
   ]
  },
  {
   "cell_type": "code",
   "execution_count": 3,
   "metadata": {},
   "outputs": [],
   "source": [
    "formato_str = \"002\"\n",
    "formato = 2"
   ]
  },
  {
   "cell_type": "code",
   "execution_count": 5,
   "metadata": {},
   "outputs": [
    {
     "name": "stdout",
     "output_type": "stream",
     "text": [
      "error con el archivo 002 AZTECA COMUNICACIONES PERU S.A.C.  15.04.21.xlsx\n"
     ]
    },
    {
     "name": "stderr",
     "output_type": "stream",
     "text": [
      "c:\\Users\\colazabal\\AppData\\Local\\Programs\\Python\\Python311\\Lib\\site-packages\\openpyxl\\worksheet\\_reader.py:329: UserWarning: Unknown extension is not supported and will be removed\n",
      "  warn(msg)\n"
     ]
    }
   ],
   "source": [
    "datos = []\n",
    "for ruta, carpetas, archivos in os.walk(wd):\n",
    "    for archivo in archivos:\n",
    "        try:\n",
    "            if archivo.startswith(formato_str) and archivo.lower().endswith(\".xlsx\"):\n",
    "                ruta_completa = os.path.join(ruta, archivo)\n",
    "                # Obtener datos de las celdas\n",
    "                wb = load_workbook(ruta_completa)\n",
    "                sheet = wb.active\n",
    "                year = sheet['C10'].value\n",
    "                trimestre = sheet['E10'].value\n",
    "                df1 = pd.read_excel(ruta_completa,skiprows=12,header = None)\n",
    "                df1 = df1[:49]\n",
    "                df1['Año'] = year\n",
    "                df1['Trimestre'] = trimestre\n",
    "                df1['Empresa'] = os.path.basename(archivo)[4:-13]\n",
    "                df1 = df1.drop(df1.columns[0], axis=1)  # Eliminar la primera columna\n",
    "                datos.append(df1)\n",
    "        except:\n",
    "            print(f'error con el archivo {archivo}')"
   ]
  },
  {
   "cell_type": "code",
   "execution_count": 6,
   "metadata": {},
   "outputs": [],
   "source": [
    "columnas = ['A.II.','DESRIPCION','BORRAR','INGRESOS','AÑO','Trimestre','Empresa']"
   ]
  },
  {
   "cell_type": "code",
   "execution_count": 7,
   "metadata": {},
   "outputs": [],
   "source": [
    "acf = pd.concat(datos, ignore_index=True)\n",
    "acf.columns = columnas\n",
    "acf.drop(columns='BORRAR',inplace=True)"
   ]
  },
  {
   "cell_type": "code",
   "execution_count": 8,
   "metadata": {},
   "outputs": [
    {
     "data": {
      "text/html": [
       "<div>\n",
       "<style scoped>\n",
       "    .dataframe tbody tr th:only-of-type {\n",
       "        vertical-align: middle;\n",
       "    }\n",
       "\n",
       "    .dataframe tbody tr th {\n",
       "        vertical-align: top;\n",
       "    }\n",
       "\n",
       "    .dataframe thead th {\n",
       "        text-align: right;\n",
       "    }\n",
       "</style>\n",
       "<table border=\"1\" class=\"dataframe\">\n",
       "  <thead>\n",
       "    <tr style=\"text-align: right;\">\n",
       "      <th></th>\n",
       "      <th>A.II.</th>\n",
       "      <th>DESRIPCION</th>\n",
       "      <th>INGRESOS</th>\n",
       "      <th>AÑO</th>\n",
       "      <th>Trimestre</th>\n",
       "      <th>Empresa</th>\n",
       "    </tr>\n",
       "  </thead>\n",
       "  <tbody>\n",
       "    <tr>\n",
       "      <th>0</th>\n",
       "      <td>A.II.</td>\n",
       "      <td>INGRESOS (1/)</td>\n",
       "      <td>Nuevos Soles sin IGV</td>\n",
       "      <td>2015.0</td>\n",
       "      <td>IV</td>\n",
       "      <td>- A&amp;P Servitel 20.06.17(Rectificación a solici...</td>\n",
       "    </tr>\n",
       "    <tr>\n",
       "      <th>1</th>\n",
       "      <td>i.</td>\n",
       "      <td>INGRESOS POR OPERACIONES (=1.+2.+3.+4.)</td>\n",
       "      <td>57430</td>\n",
       "      <td>2015.0</td>\n",
       "      <td>IV</td>\n",
       "      <td>- A&amp;P Servitel 20.06.17(Rectificación a solici...</td>\n",
       "    </tr>\n",
       "    <tr>\n",
       "      <th>2</th>\n",
       "      <td>1.</td>\n",
       "      <td>Servicios Minoristas (=1.1+1.2+1.3+1.4+1.5+1.6...</td>\n",
       "      <td>57430</td>\n",
       "      <td>2015.0</td>\n",
       "      <td>IV</td>\n",
       "      <td>- A&amp;P Servitel 20.06.17(Rectificación a solici...</td>\n",
       "    </tr>\n",
       "    <tr>\n",
       "      <th>3</th>\n",
       "      <td>1.1.</td>\n",
       "      <td>Telefonía fija de abonado (=1.1.1+1.1.2+1.1.3+...</td>\n",
       "      <td>NaN</td>\n",
       "      <td>2015.0</td>\n",
       "      <td>IV</td>\n",
       "      <td>- A&amp;P Servitel 20.06.17(Rectificación a solici...</td>\n",
       "    </tr>\n",
       "    <tr>\n",
       "      <th>4</th>\n",
       "      <td>1.1.1</td>\n",
       "      <td>Instalación</td>\n",
       "      <td>NaN</td>\n",
       "      <td>2015.0</td>\n",
       "      <td>IV</td>\n",
       "      <td>- A&amp;P Servitel 20.06.17(Rectificación a solici...</td>\n",
       "    </tr>\n",
       "    <tr>\n",
       "      <th>...</th>\n",
       "      <td>...</td>\n",
       "      <td>...</td>\n",
       "      <td>...</td>\n",
       "      <td>...</td>\n",
       "      <td>...</td>\n",
       "      <td>...</td>\n",
       "    </tr>\n",
       "    <tr>\n",
       "      <th>60167</th>\n",
       "      <td>2.8.</td>\n",
       "      <td>Acceso a Operadores Móviles Virtuales</td>\n",
       "      <td>NaN</td>\n",
       "      <td>2022.0</td>\n",
       "      <td>IV</td>\n",
       "      <td>YACHAY TELECOMUNICACIONES S.A.C</td>\n",
       "    </tr>\n",
       "    <tr>\n",
       "      <th>60168</th>\n",
       "      <td>2.9.</td>\n",
       "      <td>Otros servicios mayoristas (2/)</td>\n",
       "      <td>NaN</td>\n",
       "      <td>2022.0</td>\n",
       "      <td>IV</td>\n",
       "      <td>YACHAY TELECOMUNICACIONES S.A.C</td>\n",
       "    </tr>\n",
       "    <tr>\n",
       "      <th>60169</th>\n",
       "      <td>3.</td>\n",
       "      <td>Ingresos por venta y alquiler de equipos a cli...</td>\n",
       "      <td>45444.77</td>\n",
       "      <td>2022.0</td>\n",
       "      <td>IV</td>\n",
       "      <td>YACHAY TELECOMUNICACIONES S.A.C</td>\n",
       "    </tr>\n",
       "    <tr>\n",
       "      <th>60170</th>\n",
       "      <td>4</td>\n",
       "      <td>Otros ingresos operativos (2/)</td>\n",
       "      <td>3358684.15</td>\n",
       "      <td>2022.0</td>\n",
       "      <td>IV</td>\n",
       "      <td>YACHAY TELECOMUNICACIONES S.A.C</td>\n",
       "    </tr>\n",
       "    <tr>\n",
       "      <th>60171</th>\n",
       "      <td>ii.</td>\n",
       "      <td>OTROS INGRESOS NO RELACIONADOS CON OPERACIONES...</td>\n",
       "      <td>2727092.87</td>\n",
       "      <td>2022.0</td>\n",
       "      <td>IV</td>\n",
       "      <td>YACHAY TELECOMUNICACIONES S.A.C</td>\n",
       "    </tr>\n",
       "  </tbody>\n",
       "</table>\n",
       "<p>60172 rows × 6 columns</p>\n",
       "</div>"
      ],
      "text/plain": [
       "       A.II.                                         DESRIPCION  \\\n",
       "0      A.II.                                      INGRESOS (1/)   \n",
       "1         i.            INGRESOS POR OPERACIONES (=1.+2.+3.+4.)   \n",
       "2         1.  Servicios Minoristas (=1.1+1.2+1.3+1.4+1.5+1.6...   \n",
       "3       1.1.  Telefonía fija de abonado (=1.1.1+1.1.2+1.1.3+...   \n",
       "4      1.1.1                                        Instalación   \n",
       "...      ...                                                ...   \n",
       "60167   2.8.              Acceso a Operadores Móviles Virtuales   \n",
       "60168   2.9.                    Otros servicios mayoristas (2/)   \n",
       "60169     3.  Ingresos por venta y alquiler de equipos a cli...   \n",
       "60170      4                     Otros ingresos operativos (2/)   \n",
       "60171    ii.  OTROS INGRESOS NO RELACIONADOS CON OPERACIONES...   \n",
       "\n",
       "                   INGRESOS     AÑO Trimestre  \\\n",
       "0      Nuevos Soles sin IGV  2015.0        IV   \n",
       "1                     57430  2015.0        IV   \n",
       "2                     57430  2015.0        IV   \n",
       "3                       NaN  2015.0        IV   \n",
       "4                       NaN  2015.0        IV   \n",
       "...                     ...     ...       ...   \n",
       "60167                   NaN  2022.0        IV   \n",
       "60168                   NaN  2022.0        IV   \n",
       "60169              45444.77  2022.0        IV   \n",
       "60170            3358684.15  2022.0        IV   \n",
       "60171            2727092.87  2022.0        IV   \n",
       "\n",
       "                                                 Empresa  \n",
       "0      - A&P Servitel 20.06.17(Rectificación a solici...  \n",
       "1      - A&P Servitel 20.06.17(Rectificación a solici...  \n",
       "2      - A&P Servitel 20.06.17(Rectificación a solici...  \n",
       "3      - A&P Servitel 20.06.17(Rectificación a solici...  \n",
       "4      - A&P Servitel 20.06.17(Rectificación a solici...  \n",
       "...                                                  ...  \n",
       "60167                  YACHAY TELECOMUNICACIONES S.A.C    \n",
       "60168                  YACHAY TELECOMUNICACIONES S.A.C    \n",
       "60169                  YACHAY TELECOMUNICACIONES S.A.C    \n",
       "60170                  YACHAY TELECOMUNICACIONES S.A.C    \n",
       "60171                  YACHAY TELECOMUNICACIONES S.A.C    \n",
       "\n",
       "[60172 rows x 6 columns]"
      ]
     },
     "execution_count": 8,
     "metadata": {},
     "output_type": "execute_result"
    }
   ],
   "source": [
    "acf"
   ]
  },
  {
   "cell_type": "code",
   "execution_count": 9,
   "metadata": {},
   "outputs": [
    {
     "data": {
      "text/plain": [
       "'C:\\\\\\\\Users\\\\\\\\colazabal\\\\\\\\Desktop\\\\\\\\002'"
      ]
     },
     "execution_count": 9,
     "metadata": {},
     "output_type": "execute_result"
    }
   ],
   "source": [
    "guardado"
   ]
  },
  {
   "cell_type": "code",
   "execution_count": 10,
   "metadata": {},
   "outputs": [],
   "source": [
    "acf.to_excel(os.path.join(guardado, f'{formato_str}_verif.xlsx'), index=False) "
   ]
  }
 ],
 "metadata": {
  "kernelspec": {
   "display_name": "Python 3",
   "language": "python",
   "name": "python3"
  },
  "language_info": {
   "codemirror_mode": {
    "name": "ipython",
    "version": 3
   },
   "file_extension": ".py",
   "mimetype": "text/x-python",
   "name": "python",
   "nbconvert_exporter": "python",
   "pygments_lexer": "ipython3",
   "version": "3.11.4"
  },
  "orig_nbformat": 4
 },
 "nbformat": 4,
 "nbformat_minor": 2
}
