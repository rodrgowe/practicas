{
 "cells": [
  {
   "cell_type": "code",
   "execution_count": 1,
   "metadata": {},
   "outputs": [],
   "source": [
    "## IMPORTAMOS LAS LIBRERÍAS NECESARIAS  \n",
    "import os\n",
    "import pandas as pd\n",
    "import numpy as np\n",
    "import openpyxl\n",
    "from openpyxl import load_workbook "
   ]
  },
  {
   "cell_type": "markdown",
   "metadata": {},
   "source": [
    "## creación de variable con los datos de las celdas que se compararan"
   ]
  },
  {
   "cell_type": "code",
   "execution_count": 2,
   "metadata": {},
   "outputs": [],
   "source": [
    "rangos = pd.read_csv(r'W:\\2023\\FINANZAS\\AI-2023\\Codigos NRIP\\Codigos\\validador de estructura\\rangos1.csv')\n",
    "rangos['Rangos'] = rangos['Rangos'].str.split(',')\n",
    "# Rellenar con ceros a la izquierda en la columna 'clave' para tener una longitud de 3 caracteres\n",
    "rangos['ID'] = rangos['ID'].apply(lambda x: str(x).zfill(3))\n",
    "\n",
    "# Luego, agrupamos los valores por la columna 'clave' y los convertimos en listas\n",
    "rangos = rangos.groupby('ID')['Rangos'].apply(lambda x: [item for sublist in x for item in sublist]).to_dict()"
   ]
  },
  {
   "cell_type": "code",
   "execution_count": 3,
   "metadata": {},
   "outputs": [],
   "source": [
    "def compara_estructura(carpeta, carpeta1):\n",
    "    archivos_con_discrepancias = []  # Lista para almacenar los nombres de archivos con discrepancias\n",
    "    archivos = os.listdir(carpeta)\n",
    "    for i in os.listdir(carpeta1):\n",
    "        for archivo in archivos:\n",
    "            if i[:3] == archivo[:3]:\n",
    "                ruta1 = os.path.join(carpeta, archivo)\n",
    "                ruta2 = os.path.join(carpeta1, i)\n",
    "                try:\n",
    "                    wb = load_workbook(ruta1)\n",
    "                    wb2 = load_workbook(ruta2)\n",
    "                    wb = wb.active\n",
    "                    wb2 = wb2.active\n",
    "                    data = []\n",
    "                    for datos in rangos[f'{i[:3]}']:\n",
    "                        if wb[f'{datos}'].value != wb2[f'{datos}'].value:\n",
    "                            data.append(datos)\n",
    "                        else:\n",
    "                            pass\n",
    "                except:\n",
    "                    print(i, \"NO SE PUDO PROCESAR\")\n",
    "                if len(data)>0:\n",
    "                    archivos_con_discrepancias.append(f'en {i} no coinciden {data}')\n",
    "\n",
    "    if len(archivos_con_discrepancias)>0:\n",
    "        ruta = input(\"INSERTE LA RUTA DONDE QUIERE GUARDAR EL ARCHIVO CON ERRORES\")\n",
    "        rutaentera = os.path.join(ruta,f'{os.path.basename(carpeta1)}.txt')\n",
    "        with open(rutaentera, \"w\") as archivo_txt:\n",
    "            for elemento in archivos_con_discrepancias:\n",
    "                archivo_txt.write(elemento + \"\\n\")\n",
    "    else:\n",
    "        print(f'SIN ERRORES EN LA EMPRESA {os.path.basename(carpeta1)}')\n",
    "        # Si hay archivos con discrepancias, imprime el mensaje final con los nombres de los archivos\n",
    "        #archivos_str = \", \".join(archivos_con_discrepancias)\n",
    "        #print(f\"En la empresa {os.path.basename(carpeta1)} los archivos: {archivos_str} fueron enviados con errores\")\n",
    "    # Llamar a la función con las carpetas adecuadas\n",
    "\n",
    "# el codigo me dice si la empresa tiene archivos con errores o no."
   ]
  },
  {
   "cell_type": "code",
   "execution_count": 6,
   "metadata": {},
   "outputs": [],
   "source": [
    "carpeta = r'W:\\2023\\FINANZAS\\AI-2023\\formatos_verificar' #ruta donde se encuentran los formatos de la norma 043\n",
    "carpeta1 = input(\"inserte donde se encuentran los archivos de la empresa\")\n",
    "compara_estructura(carpeta, carpeta1)"
   ]
  }
 ],
 "metadata": {
  "kernelspec": {
   "display_name": "Python 3",
   "language": "python",
   "name": "python3"
  },
  "language_info": {
   "codemirror_mode": {
    "name": "ipython",
    "version": 3
   },
   "file_extension": ".py",
   "mimetype": "text/x-python",
   "name": "python",
   "nbconvert_exporter": "python",
   "pygments_lexer": "ipython3",
   "version": "3.11.3"
  },
  "orig_nbformat": 4
 },
 "nbformat": 4,
 "nbformat_minor": 2
}
