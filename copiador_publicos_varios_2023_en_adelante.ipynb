{
 "cells": [
  {
   "cell_type": "markdown",
   "metadata": {},
   "source": [
    "## Este codigo copia informacion pública de las empresas, completamente, si se quiere seleccionar solo algunos formatos, usar copiador normal"
   ]
  },
  {
   "cell_type": "code",
   "execution_count": null,
   "metadata": {},
   "outputs": [],
   "source": [
    "import os\n",
    "import shutil\n",
    "import re\n",
    "import time\n"
   ]
  },
  {
   "cell_type": "code",
   "execution_count": null,
   "metadata": {},
   "outputs": [],
   "source": [
    "ruta = r'W:\\2023\\FINANZAS\\INFORMACION PERIODICA'\n",
    "norma = input('Escriba 1 si copiará información publica a partir de 2023, y 2 si copiará información publica anterior a 2023')\n",
    "if norma == '1':\n",
    "    a = os.listdir(ruta)\n",
    "    rutas = []\n",
    "    for i in os.listdir(ruta):\n",
    "        if i.startswith('2023'):\n",
    "            b = os.path.join(ruta,i)\n",
    "            rutas.append(b)\n",
    "    rutas_a = []\n",
    "    for x in rutas:\n",
    "        subcarpetas = os.listdir(x)\n",
    "        for i in subcarpetas:\n",
    "            if i[:2] != '00':\n",
    "                b = os.path.join(x,i)\n",
    "                rutas_a.append(b)\n",
    "if norma == '2':\n",
    "    años = input('inserte los años que necesita copiar separados por coma (,) ejemp. 2021,2022,2020')\n",
    "    años = tuple(a.strip() for a in años.split(\",\"))\n",
    "    a = os.listdir(ruta)\n",
    "    rutas_a = []\n",
    "    for i in os.listdir(ruta):\n",
    "        if i.endswith(('I','V')) and i.startswith((años)):\n",
    "            b = os.path.join(ruta,i)\n",
    "            rutas_a.append(b)"
   ]
  },
  {
   "cell_type": "markdown",
   "metadata": {},
   "source": [
    "#### Verifique que son las rutas en las que quiere copiar"
   ]
  },
  {
   "cell_type": "code",
   "execution_count": null,
   "metadata": {},
   "outputs": [],
   "source": [
    "rutas_a"
   ]
  },
  {
   "cell_type": "markdown",
   "metadata": {},
   "source": [
    "## Ingrese la ruta de destino y las fechas minimas y maximas de los formatos de los que copiará"
   ]
  },
  {
   "cell_type": "code",
   "execution_count": null,
   "metadata": {},
   "outputs": [],
   "source": [
    "ruta_destino = input(\"Ingresa la ruta de destino: \")\n",
    "ruta_destino = ruta_destino.replace('\\\\', '\\\\\\\\')\n",
    "\n",
    "\n",
    "# Ingreso de la fecha mínima de modificación\n",
    "fecha_minima = input('inserte la fecha minima de modificación de los archivos:%d/%m/%Y')\n",
    "try:\n",
    "    fecha_minima = time.mktime(time.strptime(fecha_minima, \"%d/%m/%Y\"))\n",
    "except ValueError:\n",
    "    print(\"Fecha mínima inválida. Asegúrate de usar el formato DD/MM/AAAA.\")\n",
    "    exit()\n",
    "# Ingreso de la fecha máxima de modificación\n",
    "fecha_maxima = input('inserte la fecha maxima de modificación de los archivos:%d/%m/%Y')\n",
    "try:\n",
    "    fecha_maxima = time.mktime(time.strptime(fecha_maxima, \"%d/%m/%Y\"))\n",
    "except ValueError:\n",
    "    print(\"Fecha máxima inválida. Asegúrate de usar el formato DD/MM/AAAA.\")\n",
    "    exit()\n",
    "    \n",
    "    \n"
   ]
  },
  {
   "cell_type": "code",
   "execution_count": null,
   "metadata": {},
   "outputs": [],
   "source": [
    "if norma == '1':\n",
    "    formatos = [\"1\", \"2\",\"4\",\"5\",\"6\",\"13\",\"14\",\"16\",\"17\",\"18\",\"19\",\"20\",\"21\",\"25\",\"26\",\"27\",\"29\",\"30\",\"31\",\"33\",\"34\",\"36\",\"37\",\"44\",\"46\",\"47\",\"48\",\"49\",\"50\",\"51\",\"65\",\"66\",\"67\",\"68\",\"72\",\"83\",\"84\",\"86\",\"87\",\"95\",\"96\",\"97\",\"98\",\"99\",\"100\"]\n",
    "elif norma == '2':\n",
    "    formatos = [\"1\",\"5\",\"6\",\"7\",\"8\",\"9\",\"10\",\"11\",\"12\",\"13\",\"14\",\"15\",\"16\",\"17\",\"18\",\"20\",\"21\",\"27\",\"32\",\"33\",\"34\",\"35\",\"36\",\"45\",\"47\",\"49\",\"50\",\"52\",\"53\",\"54\",\"55\",\"56\",\"65\",\"67\",\"68\",\"77\",\"86\",\"92\",\"94\",\"96\",\"97\",\"98\",\"99\",\"100\",\"101\",\"102\",\"106\",\"107\",\"108\",\"109\",\"110\",\"112\",\"113\",\"114\",\"115\",\"116\",\"126\",\"140\",\"151\",\"152\",\"153\",\"154\",\"155\",\"157\",\"171\",\"179\",\"180\",\"181\",\"182\",\"183\",\"184\",\"185\"]\n",
    "else:\n",
    "    print('corra nuevamente el código y escoja bien el trimestre')\n",
    "formatos = [str(x).zfill(3) for x in formatos]"
   ]
  },
  {
   "cell_type": "code",
   "execution_count": null,
   "metadata": {},
   "outputs": [],
   "source": [
    "for rut in rutas_a:\n",
    "    ruta_origen = rut\n",
    "    ruta_origen = ruta_origen.replace('\\\\', '\\\\\\\\')\n",
    "    ruta_desd = os.path.join(ruta_destino, os.path.basename(rut))\n",
    "    # Obtener la lista de carpetas de empresas\n",
    "    carpetas_empresas = [nombre for nombre in os.listdir(ruta_origen) if os.path.isdir(os.path.join(ruta_origen, nombre))]\n",
    "\n",
    "    # Ingreso de la lista de formatos separados por comas\n",
    "\n",
    "\n",
    "    # Recorrer cada carpeta de empresa\n",
    "    for carpeta_empresa in carpetas_empresas:\n",
    "        ruta_empresa = os.path.join(ruta_origen, carpeta_empresa)\n",
    "\n",
    "        archivos_por_formato = {}  # Diccionario para almacenar los archivos por formato\n",
    "\n",
    "        # Obtener la lista de archivos que cumplen con los formatos especificados y el rango de fechas\n",
    "        for formato in formatos:\n",
    "            archivos = [\n",
    "                nombre for nombre in os.listdir(ruta_empresa)\n",
    "                if nombre.startswith(formato) and fecha_minima <= os.path.getmtime(os.path.join(ruta_empresa, nombre)) <= fecha_maxima\n",
    "            ]\n",
    "\n",
    "            if archivos:\n",
    "                archivos_por_formato[formato] = archivos\n",
    "\n",
    "        # Verificar si se encontraron archivos\n",
    "        if archivos_por_formato:\n",
    "\n",
    "            # Crear la carpeta de la empresa en la ruta de destino\n",
    "            ruta_destino_empresa = os.path.join(ruta_desd, carpeta_empresa)\n",
    "            os.makedirs(ruta_destino_empresa, exist_ok=True)\n",
    "\n",
    "            # Copiar los archivos más recientes de cada formato a la carpeta de destino\n",
    "            for formato, archivos in archivos_por_formato.items():\n",
    "                try:\n",
    "                        \n",
    "                    archivo_mas_reciente = max(archivos, key=lambda x: os.path.getmtime(os.path.join(ruta_empresa, x)))\n",
    "                    ruta_origen_archivo = os.path.join(ruta_empresa, archivo_mas_reciente)\n",
    "                    ruta_destino_archivo = os.path.join(ruta_destino_empresa, archivo_mas_reciente)\n",
    "                    shutil.copy2(ruta_origen_archivo, ruta_destino_archivo)\n",
    "                except:\n",
    "                    continue\n",
    "\n",
    "            print(f\"Se copiaron los archivos más recientes de los formatos {', '.join(archivos_por_formato.keys())} de la empresa {carpeta_empresa}.\")"
   ]
  }
 ],
 "metadata": {
  "kernelspec": {
   "display_name": "Python 3",
   "language": "python",
   "name": "python3"
  },
  "language_info": {
   "codemirror_mode": {
    "name": "ipython",
    "version": 3
   },
   "file_extension": ".py",
   "mimetype": "text/x-python",
   "name": "python",
   "nbconvert_exporter": "python",
   "pygments_lexer": "ipython3",
   "version": "3.11.4"
  },
  "orig_nbformat": 4
 },
 "nbformat": 4,
 "nbformat_minor": 2
}
