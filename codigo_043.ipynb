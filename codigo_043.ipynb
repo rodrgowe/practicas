{
 "cells": [
  {
   "cell_type": "code",
   "execution_count": 1,
   "metadata": {},
   "outputs": [],
   "source": [
    "import os\n",
    "import pandas as pd\n",
    "import numpy as np\n",
    "import openpyxl\n",
    "from openpyxl import load_workbook\n",
    "import openpyxl\n",
    "wd = r'W:\\2023\\FINANZAS\\INFORMACION PERIODICA\\2023-I\\03. Marzo' #si se tiene que poner ruta\n",
    "#wd = os.getcwd() #se utiliza para archivos que se extraen de la misma base\n",
    "# especificar numero de formato que se hará\n",
    "formato_str = \"043\"\n",
    "formato =43"
   ]
  },
  {
   "cell_type": "code",
   "execution_count": 2,
   "metadata": {},
   "outputs": [
    {
     "data": {
      "text/plain": [
       "Index(['Modalidad contractual', 'Líneas móviles generadoras de ingreso',\n",
       "       'Ingresos'],\n",
       "      dtype='object')"
      ]
     },
     "execution_count": 2,
     "metadata": {},
     "output_type": "execute_result"
    }
   ],
   "source": [
    "wd2 = r'W:\\2023\\FINANZAS\\INFORMACION PERIODICA\\2023-I\\03. Marzo\\AMERICA MOVIL PERU S.A.C\\043 - AMERICA MOVIL PERU S.A.C. 22.05.23.xlsx'\n",
    "columnas = pd.read_excel(wd2,skiprows=21) #COMPLETAR con archivo de CCPP\n",
    "columnas = columnas.drop(columns=columnas.columns[0])\n",
    "columnas.columns"
   ]
  },
  {
   "cell_type": "code",
   "execution_count": 3,
   "metadata": {},
   "outputs": [],
   "source": [
    "columnas =['Modalidad contractual', 'Líneas móviles generadoras de ingreso','Ingresos','Año','Trimestre', 'Empresa', 'Fecha']"
   ]
  },
  {
   "cell_type": "code",
   "execution_count": 7,
   "metadata": {},
   "outputs": [],
   "source": [
    "datos = []\n",
    "for ruta, carpetas, archivos in os.walk(wd):\n",
    "    for archivo in archivos:\n",
    "        if archivo.startswith(formato_str) and archivo.endswith(\".xlsx\"):\n",
    "            try:\n",
    "                \n",
    "                ruta_completa = os.path.join(ruta, archivo)\n",
    "                # Obtener datos de las celdas\n",
    "                wb = load_workbook(ruta_completa)\n",
    "                sheet = wb.active\n",
    "                year = sheet['C16'].value\n",
    "                trimestre = sheet['E16'].value\n",
    "                df1 = pd.read_excel(ruta_completa,skiprows=21)\n",
    "                df1['Año'] = year\n",
    "                # Obtener la primera y segunda parte del nombre del formato\n",
    "                nombre_formato = os.path.splitext(archivo)[0]  # Obtener el nombre del archivo sin extensión\n",
    "                partes = nombre_formato.split(\" - \")\n",
    "                partes1 = nombre_formato.split(\" - \")[1].split(\" \")\n",
    "                partes_nombre = nombre_formato.split(' - ')\n",
    "                df1['Empresa'] = \" \".join(partes1[0:-1])\n",
    "                df1 = df1.drop(df1.columns[0], axis=1)  # Eliminar la primera columna\n",
    "                datos.append(df1)\n",
    "            except: \n",
    "                print(f'error con el {archivo}')"
   ]
  },
  {
   "cell_type": "code",
   "execution_count": 8,
   "metadata": {},
   "outputs": [],
   "source": [
    "acf = pd.concat(datos, ignore_index=True)"
   ]
  },
  {
   "cell_type": "code",
   "execution_count": 9,
   "metadata": {},
   "outputs": [
    {
     "data": {
      "text/html": [
       "<div>\n",
       "<style scoped>\n",
       "    .dataframe tbody tr th:only-of-type {\n",
       "        vertical-align: middle;\n",
       "    }\n",
       "\n",
       "    .dataframe tbody tr th {\n",
       "        vertical-align: top;\n",
       "    }\n",
       "\n",
       "    .dataframe thead th {\n",
       "        text-align: right;\n",
       "    }\n",
       "</style>\n",
       "<table border=\"1\" class=\"dataframe\">\n",
       "  <thead>\n",
       "    <tr style=\"text-align: right;\">\n",
       "      <th></th>\n",
       "      <th>Modalidad contractual</th>\n",
       "      <th>Líneas móviles generadoras de ingreso</th>\n",
       "      <th>Ingresos</th>\n",
       "      <th>Año</th>\n",
       "      <th>Empresa</th>\n",
       "    </tr>\n",
       "  </thead>\n",
       "  <tbody>\n",
       "    <tr>\n",
       "      <th>0</th>\n",
       "      <td>Prepago</td>\n",
       "      <td>5.447301e+06</td>\n",
       "      <td>1.941110e+08</td>\n",
       "      <td>2023</td>\n",
       "      <td>AMERICA MOVIL PERU S.A.C.</td>\n",
       "    </tr>\n",
       "    <tr>\n",
       "      <th>1</th>\n",
       "      <td>Postpago</td>\n",
       "      <td>3.739400e+05</td>\n",
       "      <td>4.356290e+07</td>\n",
       "      <td>2023</td>\n",
       "      <td>AMERICA MOVIL PERU S.A.C.</td>\n",
       "    </tr>\n",
       "    <tr>\n",
       "      <th>2</th>\n",
       "      <td>Control</td>\n",
       "      <td>5.728311e+06</td>\n",
       "      <td>6.227539e+08</td>\n",
       "      <td>2023</td>\n",
       "      <td>AMERICA MOVIL PERU S.A.C.</td>\n",
       "    </tr>\n",
       "    <tr>\n",
       "      <th>3</th>\n",
       "      <td>Prepago</td>\n",
       "      <td>2.956646e+06</td>\n",
       "      <td>1.151067e+08</td>\n",
       "      <td>2023</td>\n",
       "      <td>ENTEL PERÚ S.A.</td>\n",
       "    </tr>\n",
       "    <tr>\n",
       "      <th>4</th>\n",
       "      <td>Postpago</td>\n",
       "      <td>1.638860e+05</td>\n",
       "      <td>4.381616e+05</td>\n",
       "      <td>2023</td>\n",
       "      <td>ENTEL PERÚ S.A.</td>\n",
       "    </tr>\n",
       "    <tr>\n",
       "      <th>5</th>\n",
       "      <td>Control</td>\n",
       "      <td>4.812198e+06</td>\n",
       "      <td>5.994029e+08</td>\n",
       "      <td>2023</td>\n",
       "      <td>ENTEL PERÚ S.A.</td>\n",
       "    </tr>\n",
       "    <tr>\n",
       "      <th>6</th>\n",
       "      <td>Prepago</td>\n",
       "      <td>6.022384e+06</td>\n",
       "      <td>1.228211e+08</td>\n",
       "      <td>2023</td>\n",
       "      <td>TELEFÓNICA DEL PERÚ S.A.A.</td>\n",
       "    </tr>\n",
       "    <tr>\n",
       "      <th>7</th>\n",
       "      <td>Postpago</td>\n",
       "      <td>4.579432e+06</td>\n",
       "      <td>4.408314e+08</td>\n",
       "      <td>2023</td>\n",
       "      <td>TELEFÓNICA DEL PERÚ S.A.A.</td>\n",
       "    </tr>\n",
       "    <tr>\n",
       "      <th>8</th>\n",
       "      <td>Control</td>\n",
       "      <td>2.318163e+06</td>\n",
       "      <td>1.595625e+08</td>\n",
       "      <td>2023</td>\n",
       "      <td>VIETTEL PERU S.A.C.</td>\n",
       "    </tr>\n",
       "    <tr>\n",
       "      <th>9</th>\n",
       "      <td>Postpago</td>\n",
       "      <td>3.000000e+00</td>\n",
       "      <td>1.418369e+02</td>\n",
       "      <td>2023</td>\n",
       "      <td>VIETTEL PERU S.A.C.</td>\n",
       "    </tr>\n",
       "    <tr>\n",
       "      <th>10</th>\n",
       "      <td>Prepago</td>\n",
       "      <td>3.305227e+06</td>\n",
       "      <td>6.816152e+07</td>\n",
       "      <td>2023</td>\n",
       "      <td>VIETTEL PERU S.A.C.</td>\n",
       "    </tr>\n",
       "  </tbody>\n",
       "</table>\n",
       "</div>"
      ],
      "text/plain": [
       "   Modalidad contractual  Líneas móviles generadoras de ingreso      Ingresos   \n",
       "0                Prepago                           5.447301e+06  1.941110e+08  \\\n",
       "1               Postpago                           3.739400e+05  4.356290e+07   \n",
       "2                Control                           5.728311e+06  6.227539e+08   \n",
       "3                Prepago                           2.956646e+06  1.151067e+08   \n",
       "4               Postpago                           1.638860e+05  4.381616e+05   \n",
       "5                Control                           4.812198e+06  5.994029e+08   \n",
       "6                Prepago                           6.022384e+06  1.228211e+08   \n",
       "7               Postpago                           4.579432e+06  4.408314e+08   \n",
       "8                Control                           2.318163e+06  1.595625e+08   \n",
       "9               Postpago                           3.000000e+00  1.418369e+02   \n",
       "10               Prepago                           3.305227e+06  6.816152e+07   \n",
       "\n",
       "     Año                     Empresa  \n",
       "0   2023   AMERICA MOVIL PERU S.A.C.  \n",
       "1   2023   AMERICA MOVIL PERU S.A.C.  \n",
       "2   2023   AMERICA MOVIL PERU S.A.C.  \n",
       "3   2023             ENTEL PERÚ S.A.  \n",
       "4   2023             ENTEL PERÚ S.A.  \n",
       "5   2023             ENTEL PERÚ S.A.  \n",
       "6   2023  TELEFÓNICA DEL PERÚ S.A.A.  \n",
       "7   2023  TELEFÓNICA DEL PERÚ S.A.A.  \n",
       "8   2023         VIETTEL PERU S.A.C.  \n",
       "9   2023         VIETTEL PERU S.A.C.  \n",
       "10  2023         VIETTEL PERU S.A.C.  "
      ]
     },
     "execution_count": 9,
     "metadata": {},
     "output_type": "execute_result"
    }
   ],
   "source": [
    "acf"
   ]
  },
  {
   "cell_type": "code",
   "execution_count": 10,
   "metadata": {},
   "outputs": [],
   "source": [
    "acf.to_excel(r'W:\\2023\\FINANZAS\\AI-2023\\Codigos NRIP\\Codigos\\Finanzas-datasets\\datasets\\dataset_043.xlsx')"
   ]
  }
 ],
 "metadata": {
  "kernelspec": {
   "display_name": "Python 3",
   "language": "python",
   "name": "python3"
  },
  "language_info": {
   "codemirror_mode": {
    "name": "ipython",
    "version": 3
   },
   "file_extension": ".py",
   "mimetype": "text/x-python",
   "name": "python",
   "nbconvert_exporter": "python",
   "pygments_lexer": "ipython3",
   "version": "3.11.3"
  },
  "orig_nbformat": 4
 },
 "nbformat": 4,
 "nbformat_minor": 2
}
